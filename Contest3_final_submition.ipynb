{
 "cells": [
  {
   "attachments": {},
   "cell_type": "markdown",
   "metadata": {},
   "source": [
    "## MATH/STAT 4450/8456 Contest3\n",
    "\n",
    "Description of variables  \n",
    "• recordID: Row ID.  \n",
    "• orderID: Order ID. Different rows may have the same order ID.  \n",
    "• orderDate: Order date.  \n",
    "• itemID: Item ID. One order may have multiple items.  \n",
    "• colorCode: Color code of the item.  \n",
    "• sizeCode: Size code of the item.  \n",
    "• typeCode: Type code of the item.  \n",
    "• price: Price of the item.  \n",
    "• recommendedPrice: Recommended retail price.  \n",
    "• voucherID: Voucher ID.  \n",
    "• voucherAmount: Voucher value PER ORDER.  \n",
    "• customerID: Customer ID.  \n",
    "• deviceCode: Device type.  \n",
    "• paymentCode: Payment type.  \n",
    "• return: If the item is returned or not. 1: yes. 0: no."
   ]
  },
  {
   "attachments": {},
   "cell_type": "markdown",
   "metadata": {},
   "source": [
    "### Step 1: Data Preprocessing"
   ]
  },
  {
   "cell_type": "code",
   "execution_count": 1,
   "metadata": {},
   "outputs": [],
   "source": [
    "# Import required libraries\n",
    "from DataPreparation import DataPrep\n",
    "import pandas as pd\n",
    "from xgboost import XGBClassifier\n",
    "from sklearn.preprocessing import LabelEncoder\n",
    "from sklearn.metrics import accuracy_score, mean_squared_error\n",
    "from xgboost import XGBClassifier\n",
    "from sklearn.model_selection import train_test_split\n"
   ]
  },
  {
   "cell_type": "code",
   "execution_count": 2,
   "metadata": {},
   "outputs": [],
   "source": [
    "#Load data\n",
    "train = pd.read_csv('train.csv')\n",
    "test = pd.read_csv('test.csv')\n",
    "all = pd.concat((train, test), sort=False)\n",
    "#Data clean and feature engineering\n",
    "all_cleaned = DataPrep().run(all)\n",
    "all_cleaned.fillna(0, inplace=True)\n",
    "len_train = len(train)\n",
    "train_df = all_cleaned[0:len_train]\n",
    "test_df = all_cleaned[len_train:]"
   ]
  },
  {
   "attachments": {},
   "cell_type": "markdown",
   "metadata": {},
   "source": [
    "## Step: feature selection"
   ]
  },
  {
   "cell_type": "code",
   "execution_count": 3,
   "metadata": {},
   "outputs": [
    {
     "name": "stderr",
     "output_type": "stream",
     "text": [
      "/var/folders/85/3hk_g8w922zfg2gmpw407zj00000gn/T/ipykernel_46860/2006090936.py:2: FutureWarning: The default value of numeric_only in DataFrame.corr is deprecated. In a future version, it will default to False. Select only valid columns or specify the value of numeric_only to silence this warning.\n",
      "  correlation_matrix = train_df.corr()\n"
     ]
    }
   ],
   "source": [
    "# Calculate the correlation matrix\n",
    "correlation_matrix = train_df.corr()\n",
    "correlation_values = correlation_matrix['return'].abs().sort_values(ascending=False)\n",
    "top_correlated_features = correlation_values[correlation_values.index != 'return'].head(12)\n",
    "top_correlated_feature_names = top_correlated_features.index.tolist()"
   ]
  },
  {
   "attachments": {},
   "cell_type": "markdown",
   "metadata": {},
   "source": [
    "## Step: Validation Approach"
   ]
  },
  {
   "attachments": {},
   "cell_type": "markdown",
   "metadata": {},
   "source": [
    "(ii) Data filtering -> Data cleaning -> Validation set approach (70-30 ratio, random sampling) -> Model Fitting -> Report the validation error."
   ]
  },
  {
   "cell_type": "code",
   "execution_count": 6,
   "metadata": {},
   "outputs": [
    {
     "name": "stdout",
     "output_type": "stream",
     "text": [
      "[0]\tvalidation_0-logloss:0.68401\n",
      "[10]\tvalidation_0-logloss:0.64333\n",
      "[20]\tvalidation_0-logloss:0.63540\n",
      "[30]\tvalidation_0-logloss:0.63269\n",
      "[40]\tvalidation_0-logloss:0.63150\n",
      "[50]\tvalidation_0-logloss:0.63061\n",
      "[60]\tvalidation_0-logloss:0.63008\n",
      "[70]\tvalidation_0-logloss:0.62937\n",
      "[80]\tvalidation_0-logloss:0.62899\n",
      "[90]\tvalidation_0-logloss:0.62830\n",
      "[100]\tvalidation_0-logloss:0.62798\n",
      "[110]\tvalidation_0-logloss:0.62774\n",
      "[120]\tvalidation_0-logloss:0.62740\n",
      "[130]\tvalidation_0-logloss:0.62710\n",
      "[140]\tvalidation_0-logloss:0.62686\n",
      "[150]\tvalidation_0-logloss:0.62670\n",
      "[160]\tvalidation_0-logloss:0.62655\n",
      "[170]\tvalidation_0-logloss:0.62634\n",
      "[180]\tvalidation_0-logloss:0.62622\n",
      "[190]\tvalidation_0-logloss:0.62612\n",
      "[199]\tvalidation_0-logloss:0.62597\n",
      "Accuracy on the validation set: 0.6487 \n",
      "Validation error: 0.3513\n"
     ]
    }
   ],
   "source": [
    "X = train_df[top_correlated_feature_names]\n",
    "y = train_df['return']\n",
    "\n",
    "# Validation set approach\n",
    "X_train, X_val, y_train, y_val = train_test_split(X, y, test_size=0.3, random_state=42)\n",
    "xgb_model = XGBClassifier(max_depth = 8, \n",
    "                        min_child_weight= 3,\n",
    "                        objective='binary:logistic',\n",
    "                        nthread=4,\n",
    "                        scale_pos_weight=1,\n",
    "                        n_estimators = 200,\n",
    "                        learning_rate=0.1,\n",
    "                        gamma=0, \n",
    "                        subsample=0.8, \n",
    "                        colsample_bytree=0.8\n",
    "                        )\n",
    "xgb_model.fit(X_train, y_train, eval_set=[(X_val, y_val)], verbose=10)\n",
    "y_pred = xgb_model.predict(X_val)\n",
    "accuracy = round(accuracy_score(y_val, y_pred),4)\n",
    "val_error = round(mean_squared_error(y_val, y_pred),4)\n",
    "print(f\"Accuracy on the validation set: {accuracy} \")\n",
    "print(f\"Validation error: {val_error}\")\n"
   ]
  },
  {
   "attachments": {},
   "cell_type": "markdown",
   "metadata": {},
   "source": [
    "## Step: Make prediction on test"
   ]
  },
  {
   "cell_type": "code",
   "execution_count": 5,
   "metadata": {},
   "outputs": [
    {
     "name": "stdout",
     "output_type": "stream",
     "text": [
      "1    174714\n",
      "0     97022\n",
      "Name: return, dtype: int64\n"
     ]
    }
   ],
   "source": [
    "test_df = test_df[top_correlated_feature_names]\n",
    "xgb_pred = xgb_model.predict(test_df)\n",
    "df_submission = pd.read_csv(\"sample_submission.csv\")\n",
    "df_submission['return'] = xgb_pred\n",
    "print(df_submission['return'].value_counts())\n",
    "df_submission.to_csv('submission_xgb0.6487.csv', index=False)"
   ]
  }
 ],
 "metadata": {
  "kernelspec": {
   "display_name": "Python 3",
   "language": "python",
   "name": "python3"
  },
  "language_info": {
   "codemirror_mode": {
    "name": "ipython",
    "version": 3
   },
   "file_extension": ".py",
   "mimetype": "text/x-python",
   "name": "python",
   "nbconvert_exporter": "python",
   "pygments_lexer": "ipython3",
   "version": "3.10.2"
  },
  "orig_nbformat": 4
 },
 "nbformat": 4,
 "nbformat_minor": 2
}
